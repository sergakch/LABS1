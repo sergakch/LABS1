{
 "cells": [
  {
   "cell_type": "code",
   "execution_count": null,
   "id": "4281f496",
   "metadata": {
    "papermill": {
     "duration": 0.006445,
     "end_time": "2022-06-02T18:12:09.362046",
     "exception": false,
     "start_time": "2022-06-02T18:12:09.355601",
     "status": "completed"
    },
    "tags": []
   },
   "outputs": [],
   "source": []
  },
  {
   "cell_type": "code",
   "execution_count": 1,
   "id": "bd5e7bc8",
   "metadata": {
    "execution": {
     "iopub.execute_input": "2022-06-02T18:12:09.376745Z",
     "iopub.status.busy": "2022-06-02T18:12:09.375992Z",
     "iopub.status.idle": "2022-06-02T18:12:16.977253Z",
     "shell.execute_reply": "2022-06-02T18:12:16.976226Z"
    },
    "papermill": {
     "duration": 7.61025,
     "end_time": "2022-06-02T18:12:16.979708",
     "exception": false,
     "start_time": "2022-06-02T18:12:09.369458",
     "status": "completed"
    },
    "tags": []
   },
   "outputs": [
    {
     "name": "stdout",
     "output_type": "stream",
     "text": [
      "Found 3043 files belonging to 18 classes.\n",
      "Using 2435 files for training.\n"
     ]
    },
    {
     "name": "stderr",
     "output_type": "stream",
     "text": [
      "2022-06-02 18:12:16.627258: I tensorflow/core/common_runtime/process_util.cc:146] Creating new thread pool with default inter op setting: 2. Tune using inter_op_parallelism_threads for best performance.\n"
     ]
    },
    {
     "name": "stdout",
     "output_type": "stream",
     "text": [
      "Found 3043 files belonging to 18 classes.\n",
      "Using 608 files for validation.\n"
     ]
    }
   ],
   "source": [
    "# TensorFlow and tf.keras\n",
    "import tensorflow as tf\n",
    "import os\n",
    "from PIL import Image\n",
    "import random\n",
    "# Helper libraries\n",
    "import numpy as np\n",
    "import matplotlib.pyplot as plt\n",
    "import math as Math\n",
    "from keras.applications.densenet import DenseNet121\n",
    "\n",
    "fpath = \"../input/stanford/stanford-dogs-20-breeds/images_trn_BIG\"\n",
    "#fpath = \"./Dogs/Images/Images5\"\n",
    "\n",
    "\n",
    "CATEGORIES_AMOUNT = len(os.listdir(fpath))\n",
    "#AMOUNT_PER_CATEGORY_TRAIN = 20\n",
    "#AMOUNT_PER_CATEGORY_TEST = 10\n",
    "\n",
    "\n",
    "categories = os.listdir(fpath)\n",
    "categories = categories[:CATEGORIES_AMOUNT]\n",
    "\n",
    "img_width = 224\n",
    "img_height = 224\n",
    "batch_size = 16\n",
    "\n",
    "train_ds = tf.keras.preprocessing.image_dataset_from_directory(\n",
    "    \"../input/stanford/stanford-dogs-20-breeds/images_trn_BIG\",\n",
    "    validation_split=0.2,\n",
    "    subset='training',\n",
    "    seed=42069,\n",
    "    image_size=(img_width, img_height),\n",
    "    batch_size=batch_size,\n",
    "    label_mode=\"categorical\"\n",
    ")\n",
    "\n",
    "class_names = train_ds.class_names\n",
    "val_ds = tf.keras.preprocessing.image_dataset_from_directory(\n",
    "    \"../input/stanford/stanford-dogs-20-breeds/images_trn_BIG\",\n",
    "    validation_split=0.2,\n",
    "    subset='validation',\n",
    "    seed=42069,\n",
    "    image_size=(img_width, img_height),\n",
    "    batch_size=batch_size,\n",
    "    label_mode=\"categorical\"\n",
    ")\n",
    "\n",
    "\n",
    "#TrainData = tf.keras.preprocessing.image.ImageDataGenerator(\n",
    "#    width_shift_range=0.2, height_shift_range=0.2,\n",
    "#    rotation_range=90, rescale=1/255,\n",
    "#    horizontal_flip=True, vertical_flip=True)\n",
    "\n",
    "#ValidData = tf.keras.preprocessing.image.ImageDataGenerator()\n",
    "\n",
    "\n",
    "#train_gen = TrainData.flow_from_directory(\n",
    "#    directory=\"../Dogs/Images/Images_trn\",\n",
    "#    target_size=(img_width, img_height),\n",
    "#    batch_size=batch_size)\n",
    "#\n",
    "#val_gen = ValidData.flow_from_directory(\n",
    "#    directory=\"./Dogs/Images/Images_val\",\n",
    "#    target_size=(img_width, img_height),\n",
    "#    batch_size=batch_size)\n",
    "\n",
    "\n",
    "#img_gen = tf.keras.preprocessing.image.ImageDataGenerator(\n",
    "#    #width_shift_range=0.2, height_shift_range=0.2,\n",
    "#    #rotation_range=90, \n",
    "#    rescale=1/255,\n",
    "#    horizontal_flip=True, vertical_flip=True).flow_from_directory(\n",
    "#    directory=\"../input/stanford-dogs-dataset/images/Images\",\n",
    "#    target_size=(img_width, img_height),\n",
    "#    batch_size=batch_size)\n",
    "\n",
    "#for image_batch, labels_batch in train_ds:\n",
    "#    print(image_batch.shape)\n",
    "#    print(labels_batch.shape)\n",
    "#    break\n",
    "\n",
    "\n",
    "#normalization_layer = tf.keras.layers.Rescaling(1./255)\n",
    "#normalized_ds = train_ds.map(lambda x, y: (normalization_layer(x), y))\n",
    "#image_batch, labels_batch = next(iter(normalized_ds))\n",
    "#first_image = image_batch[0]\n",
    "# Notice the pixel values are now in `[0,1]`.\n",
    "#print(np.min(first_image), np.max(first_image))\n",
    "\n",
    "\n",
    "AUTOTUNE = tf.data.AUTOTUNE"
   ]
  },
  {
   "cell_type": "code",
   "execution_count": 2,
   "id": "6c73c427",
   "metadata": {
    "execution": {
     "iopub.execute_input": "2022-06-02T18:12:16.993090Z",
     "iopub.status.busy": "2022-06-02T18:12:16.991963Z",
     "iopub.status.idle": "2022-06-02T18:12:21.035032Z",
     "shell.execute_reply": "2022-06-02T18:12:21.034062Z"
    },
    "papermill": {
     "duration": 4.05214,
     "end_time": "2022-06-02T18:12:21.037344",
     "exception": false,
     "start_time": "2022-06-02T18:12:16.985204",
     "status": "completed"
    },
    "tags": []
   },
   "outputs": [],
   "source": [
    "# # # На основе заранее тренированной сети (224,224,3)\n",
    "inputl1 = tf.keras.Input((224,224,3))\n",
    "backbone = DenseNet121(input_shape=(224,224,3),\n",
    "                       input_tensor = inputl1,\n",
    "                       weights=\"../input/densenet-keras/DenseNet-BC-121-32-no-top.h5\",\n",
    "                       include_top=False)\n",
    "modell = backbone.output\n",
    "modell = tf.keras.layers.GlobalAveragePooling2D()(modell)\n",
    "modell = tf.keras.layers.Dense(1024, activation=\"relu\")(modell)\n",
    "modell = tf.keras.layers.Dropout(0.5)(modell)\n",
    "modell = tf.keras.layers.Dense(512, activation=\"relu\")(modell)\n",
    "modell = tf.keras.layers.Dropout(0.5)(modell)\n",
    "outpl1 = tf.keras.layers.Dense(CATEGORIES_AMOUNT, activation=\"softmax\")(modell)\n",
    "model = tf.keras.Model(inputl1, outpl1)\n",
    "for layer in model.layers[:-6]:\n",
    "    layer.trainable = False"
   ]
  },
  {
   "cell_type": "code",
   "execution_count": 3,
   "id": "78df1b4c",
   "metadata": {
    "execution": {
     "iopub.execute_input": "2022-06-02T18:12:21.053779Z",
     "iopub.status.busy": "2022-06-02T18:12:21.052894Z",
     "iopub.status.idle": "2022-06-02T18:12:21.058002Z",
     "shell.execute_reply": "2022-06-02T18:12:21.057302Z"
    },
    "papermill": {
     "duration": 0.01397,
     "end_time": "2022-06-02T18:12:21.059954",
     "exception": false,
     "start_time": "2022-06-02T18:12:21.045984",
     "status": "completed"
    },
    "tags": []
   },
   "outputs": [],
   "source": [
    "# # # \n",
    "# model = tf.keras.Sequential([\n",
    "#   tf.keras.layers.Rescaling(1./255),\n",
    "#   tf.keras.layers.Conv2D(32, 3, activation='relu', padding='same'),\n",
    "#   tf.keras.layers.Conv2D(32, 3, activation='relu'),\n",
    "#   tf.keras.layers.MaxPooling2D(),\n",
    "#   tf.keras.layers.Dropout(0.25),\n",
    "#   tf.keras.layers.Conv2D(64, 3, activation='relu', padding='same'),\n",
    "#   tf.keras.layers.Conv2D(64, 3, activation='relu'),\n",
    "#   tf.keras.layers.MaxPooling2D(),\n",
    "#   tf.keras.layers.Dropout(0.25),\n",
    "#   tf.keras.layers.Conv2D(64, 3, activation='relu', padding='same'),\n",
    "#   tf.keras.layers.Conv2D(64, 3, activation='relu'),\n",
    "#   tf.keras.layers.MaxPooling2D(),\n",
    "#   tf.keras.layers.Dropout(0.25),\n",
    "#   tf.keras.layers.Flatten(),\n",
    "#   tf.keras.layers.Dense(512, activation='relu'),\n",
    "#   tf.keras.layers.Dropout(0.5),\n",
    "#   tf.keras.layers.Dense(CATEGORIES_AMOUNT, activation='softmax')\n",
    "# ])"
   ]
  },
  {
   "cell_type": "code",
   "execution_count": 4,
   "id": "cb355530",
   "metadata": {
    "execution": {
     "iopub.execute_input": "2022-06-02T18:12:21.073591Z",
     "iopub.status.busy": "2022-06-02T18:12:21.072917Z",
     "iopub.status.idle": "2022-06-02T18:12:21.078136Z",
     "shell.execute_reply": "2022-06-02T18:12:21.077270Z"
    },
    "papermill": {
     "duration": 0.014779,
     "end_time": "2022-06-02T18:12:21.080276",
     "exception": false,
     "start_time": "2022-06-02T18:12:21.065497",
     "status": "completed"
    },
    "tags": []
   },
   "outputs": [],
   "source": [
    "# # # \n",
    "#model = tf.keras.Sequential([\n",
    "#    tf.keras.layers.Rescaling(1./255),\n",
    "#    tf.keras.layers.Conv2D(16, 3,  activation='relu'),\n",
    "#    tf.keras.layers.Conv2D(16, 3, activation='relu'),\n",
    "#    tf.keras.layers.MaxPooling2D(),\n",
    "#    tf.keras.layers.Conv2D(32, 3, activation='relu'),\n",
    "#    tf.keras.layers.Conv2D(32, 3,  activation='relu'),\n",
    "#    tf.keras.layers.MaxPooling2D(),\n",
    "#    tf.keras.layers.Conv2D(64, 3,  activation='relu'),\n",
    "#    tf.keras.layers.MaxPooling2D(),\n",
    "#    tf.keras.layers.Dropout(0.2),\n",
    "#    tf.keras.layers.Flatten(),\n",
    "#    tf.keras.layers.Dense(128, activation='relu'),\n",
    "#    tf.keras.layers.Dense(CATEGORIES_AMOUNT)\n",
    "#])\n"
   ]
  },
  {
   "cell_type": "code",
   "execution_count": 5,
   "id": "f2c04bf1",
   "metadata": {
    "execution": {
     "iopub.execute_input": "2022-06-02T18:12:21.092656Z",
     "iopub.status.busy": "2022-06-02T18:12:21.092294Z",
     "iopub.status.idle": "2022-06-02T18:12:21.097076Z",
     "shell.execute_reply": "2022-06-02T18:12:21.096149Z"
    },
    "papermill": {
     "duration": 0.01303,
     "end_time": "2022-06-02T18:12:21.098916",
     "exception": false,
     "start_time": "2022-06-02T18:12:21.085886",
     "status": "completed"
    },
    "tags": []
   },
   "outputs": [],
   "source": [
    "## # Из keggle примера (227,227,3)\n",
    "#model = tf.keras.Sequential([\n",
    "#    tf.keras.layers.Conv2D(filters=96,kernel_size=(11,11),strides=(4,4),padding=\"valid\",activation=\"relu\",input_shape=(227,227,3)),\n",
    "#    tf.keras.layers.MaxPooling2D(pool_size=(3,3),strides=(2,2)),\n",
    "#    tf.keras.layers.BatchNormalization(),\n",
    "#    tf.keras.layers.Conv2D(filters=256,kernel_size=(5,5),strides=(1,1),padding=\"valid\",activation=\"relu\"),\n",
    "#    tf.keras.layers.MaxPooling2D(pool_size=(3,3),strides=(2,2)),\n",
    "#    tf.keras.layers.BatchNormalization(),\n",
    "#    tf.keras.layers.Conv2D(filters=384,kernel_size=(3,3),strides=(1,1),padding=\"valid\",activation=\"relu\"),\n",
    "#    tf.keras.layers.Conv2D(filters=384,kernel_size=(3,3),strides=(1,1),padding=\"valid\",activation=\"relu\"),\n",
    "#    tf.keras.layers.Conv2D(filters=256,kernel_size=(3,3),strides=(1,1),padding=\"valid\",activation=\"relu\"),\n",
    "#    tf.keras.layers.MaxPooling2D(pool_size=(3,3),strides=(2,2)),\n",
    "#    tf.keras.layers.BatchNormalization(),\n",
    "#    tf.keras.layers.Flatten(),\n",
    "#    tf.keras.layers.Dense(4096,input_shape=(227,227,3),activation=\"relu\"),\n",
    "#    tf.keras.layers.Dropout(0.4),\n",
    "#    tf.keras.layers.BatchNormalization(),\n",
    "#    tf.keras.layers.Dense(4096,activation=\"relu\"),\n",
    "#    tf.keras.layers.Dropout(0.4),\n",
    "#    tf.keras.layers.BatchNormalization(),\n",
    "#    tf.keras.layers.Dense(1000,activation=\"relu\"),\n",
    "#    tf.keras.layers.Dropout(0.4),\n",
    "#    tf.keras.layers.BatchNormalization(),\n",
    "#    tf.keras.layers.Dense(23,activation=\"softmax\")\n",
    "#    ])"
   ]
  },
  {
   "cell_type": "code",
   "execution_count": 6,
   "id": "66b25399",
   "metadata": {
    "execution": {
     "iopub.execute_input": "2022-06-02T18:12:21.111019Z",
     "iopub.status.busy": "2022-06-02T18:12:21.110631Z",
     "iopub.status.idle": "2022-06-02T18:12:21.131169Z",
     "shell.execute_reply": "2022-06-02T18:12:21.130271Z"
    },
    "papermill": {
     "duration": 0.029257,
     "end_time": "2022-06-02T18:12:21.133446",
     "exception": false,
     "start_time": "2022-06-02T18:12:21.104189",
     "status": "completed"
    },
    "tags": []
   },
   "outputs": [],
   "source": [
    "\n",
    "model.compile(optimizer='adam',\n",
    "              loss='categorical_crossentropy',\n",
    "              metrics=['accuracy'])\n",
    "\n",
    "epochs = 5\n",
    "\n",
    "early_stopping = tf.keras.callbacks.EarlyStopping(monitor='val_loss',\n",
    "                                                  patience = 10,\n",
    "                                                  mode='min')"
   ]
  },
  {
   "cell_type": "code",
   "execution_count": 7,
   "id": "0219d05c",
   "metadata": {
    "execution": {
     "iopub.execute_input": "2022-06-02T18:12:21.145681Z",
     "iopub.status.busy": "2022-06-02T18:12:21.145302Z",
     "iopub.status.idle": "2022-06-02T18:15:31.589511Z",
     "shell.execute_reply": "2022-06-02T18:15:31.588400Z"
    },
    "papermill": {
     "duration": 190.467787,
     "end_time": "2022-06-02T18:15:31.606707",
     "exception": false,
     "start_time": "2022-06-02T18:12:21.138920",
     "status": "completed"
    },
    "tags": []
   },
   "outputs": [
    {
     "name": "stderr",
     "output_type": "stream",
     "text": [
      "2022-06-02 18:12:26.317580: I tensorflow/compiler/mlir/mlir_graph_optimization_pass.cc:185] None of the MLIR Optimization Passes are enabled (registered 2)\n"
     ]
    },
    {
     "name": "stdout",
     "output_type": "stream",
     "text": [
      "153/153 [==============================] - 190s 1s/step - loss: 4.2080 - accuracy: 0.0719 - val_loss: 2.8525 - val_accuracy: 0.0905\n"
     ]
    }
   ],
   "source": [
    "history = model.fit(train_ds,\n",
    "                    validation_data=val_ds,\n",
    "                    #validation_steps=len(val_gen),\n",
    "                    #steps_per_epoch=len(train_gen),\n",
    "                    callbacks=[early_stopping],\n",
    "                    epochs=epochs)\n",
    "#model.summary() #если это DenseNet, то лучше закомментировать т.к. она большая и её структура известна."
   ]
  },
  {
   "cell_type": "code",
   "execution_count": 8,
   "id": "19f11946",
   "metadata": {
    "execution": {
     "iopub.execute_input": "2022-06-02T18:15:31.640791Z",
     "iopub.status.busy": "2022-06-02T18:15:31.640391Z",
     "iopub.status.idle": "2022-06-02T18:16:09.951862Z",
     "shell.execute_reply": "2022-06-02T18:16:09.950770Z"
    },
    "papermill": {
     "duration": 38.331408,
     "end_time": "2022-06-02T18:16:09.954320",
     "exception": false,
     "start_time": "2022-06-02T18:15:31.622912",
     "status": "completed"
    },
    "tags": []
   },
   "outputs": [],
   "source": [
    "\n",
    "train_loss = history.history['loss']\n",
    "train_acc = history.history['accuracy']\n",
    "val_loss = history.history['val_loss']\n",
    "val_acc = history.history['val_accuracy']\n",
    "\n",
    "epochs_range = range(epochs)\n",
    "\n",
    "predictions = model.predict(val_ds)\n",
    "\n",
    "\n",
    "def plot_value_array(predictions_array, true_labels_array):\n",
    "    #print(predictions_array, true_labels_array)\n",
    "    plt.grid(False)\n",
    "    plt.xticks(range(CATEGORIES_AMOUNT))\n",
    "    plt.yticks([])\n",
    "    thisplot = plt.bar(range(CATEGORIES_AMOUNT),\n",
    "                       predictions_array, color=\"#777777\")\n",
    "    plt.ylim([0, 1])\n",
    "    predicted_label = np.argmax(predictions_array)\n",
    "    true_label = np.argmax(true_labels_array)\n",
    "    thisplot[predicted_label].set_color('red')\n",
    "    thisplot[true_label].set_color('blue')\n",
    "\n",
    "\n",
    "def plot_image(predictions_array, true_labels_array, img):\n",
    "    #print(predictions_array, true_labels_array, img)\n",
    "    plt.grid(False)\n",
    "    plt.xticks([])\n",
    "    plt.yticks([])\n",
    "\n",
    "    plt.imshow(img.numpy().astype(\"uint8\"))\n",
    "    predicted_label = np.argmax(predictions_array)\n",
    "    true_label = np.argmax(true_labels_array)\n",
    "    if predicted_label == true_label:\n",
    "        color = 'blue'\n",
    "    else:\n",
    "        color = 'red'\n",
    "\n",
    "    plt.xlabel(\"{} {:2.0f}% ({})\".format(class_names[predicted_label],\n",
    "                                         100*np.max(predictions_array),\n",
    "                                         class_names[true_label]),\n",
    "               color=color)\n"
   ]
  },
  {
   "cell_type": "code",
   "execution_count": 9,
   "id": "f862c788",
   "metadata": {
    "execution": {
     "iopub.execute_input": "2022-06-02T18:16:09.989353Z",
     "iopub.status.busy": "2022-06-02T18:16:09.988686Z",
     "iopub.status.idle": "2022-06-02T18:16:09.994722Z",
     "shell.execute_reply": "2022-06-02T18:16:09.993662Z"
    },
    "papermill": {
     "duration": 0.026624,
     "end_time": "2022-06-02T18:16:09.997714",
     "exception": false,
     "start_time": "2022-06-02T18:16:09.971090",
     "status": "completed"
    },
    "tags": []
   },
   "outputs": [
    {
     "name": "stdout",
     "output_type": "stream",
     "text": [
      "<keras.callbacks.History object at 0x7fcf3c1d9a10>\n"
     ]
    }
   ],
   "source": [
    "print(history)"
   ]
  },
  {
   "cell_type": "code",
   "execution_count": null,
   "id": "50146953",
   "metadata": {
    "papermill": {
     "duration": 0.016062,
     "end_time": "2022-06-02T18:16:10.030997",
     "exception": false,
     "start_time": "2022-06-02T18:16:10.014935",
     "status": "completed"
    },
    "tags": []
   },
   "outputs": [],
   "source": []
  },
  {
   "cell_type": "code",
   "execution_count": 10,
   "id": "cf8da436",
   "metadata": {
    "execution": {
     "iopub.execute_input": "2022-06-02T18:16:10.065962Z",
     "iopub.status.busy": "2022-06-02T18:16:10.065275Z",
     "iopub.status.idle": "2022-06-02T18:16:10.384117Z",
     "shell.execute_reply": "2022-06-02T18:16:10.382246Z"
    },
    "papermill": {
     "duration": 0.338865,
     "end_time": "2022-06-02T18:16:10.386381",
     "exception": true,
     "start_time": "2022-06-02T18:16:10.047516",
     "status": "failed"
    },
    "tags": []
   },
   "outputs": [
    {
     "name": "stdout",
     "output_type": "stream",
     "text": [
      "Рисовать графики? [0|1]:   "
     ]
    },
    {
     "ename": "StdinNotImplementedError",
     "evalue": "raw_input was called, but this frontend does not support input requests.",
     "output_type": "error",
     "traceback": [
      "\u001b[0;31m---------------------------------------------------------------------------\u001b[0m",
      "\u001b[0;31mStdinNotImplementedError\u001b[0m                  Traceback (most recent call last)",
      "\u001b[0;32m/tmp/ipykernel_19/1049349507.py\u001b[0m in \u001b[0;36m<module>\u001b[0;34m\u001b[0m\n\u001b[1;32m      1\u001b[0m \u001b[0mepochs\u001b[0m \u001b[0;34m=\u001b[0m \u001b[0;36m52\u001b[0m\u001b[0;34m\u001b[0m\u001b[0;34m\u001b[0m\u001b[0m\n\u001b[1;32m      2\u001b[0m \u001b[0mprint\u001b[0m\u001b[0;34m(\u001b[0m\u001b[0;34m\"Рисовать графики? [0|1]: \"\u001b[0m\u001b[0;34m,\u001b[0m \u001b[0mend\u001b[0m\u001b[0;34m=\u001b[0m\u001b[0;34m'  '\u001b[0m\u001b[0;34m)\u001b[0m\u001b[0;34m\u001b[0m\u001b[0;34m\u001b[0m\u001b[0m\n\u001b[0;32m----> 3\u001b[0;31m \u001b[0mj\u001b[0m \u001b[0;34m=\u001b[0m \u001b[0mint\u001b[0m\u001b[0;34m(\u001b[0m\u001b[0minput\u001b[0m\u001b[0;34m(\u001b[0m\u001b[0;34m)\u001b[0m\u001b[0;34m)\u001b[0m\u001b[0;34m\u001b[0m\u001b[0;34m\u001b[0m\u001b[0m\n\u001b[0m\u001b[1;32m      4\u001b[0m \u001b[0;32mif\u001b[0m\u001b[0;34m(\u001b[0m\u001b[0mj\u001b[0m \u001b[0;34m==\u001b[0m \u001b[0;36m1\u001b[0m\u001b[0;34m)\u001b[0m\u001b[0;34m:\u001b[0m\u001b[0;34m\u001b[0m\u001b[0;34m\u001b[0m\u001b[0m\n\u001b[1;32m      5\u001b[0m     \u001b[0mplt\u001b[0m\u001b[0;34m.\u001b[0m\u001b[0mfigure\u001b[0m\u001b[0;34m(\u001b[0m\u001b[0mfigsize\u001b[0m\u001b[0;34m=\u001b[0m\u001b[0;34m(\u001b[0m\u001b[0;36m12\u001b[0m\u001b[0;34m,\u001b[0m \u001b[0;36m10\u001b[0m\u001b[0;34m)\u001b[0m\u001b[0;34m)\u001b[0m\u001b[0;34m\u001b[0m\u001b[0;34m\u001b[0m\u001b[0m\n",
      "\u001b[0;32m/opt/conda/lib/python3.7/site-packages/ipykernel/kernelbase.py\u001b[0m in \u001b[0;36mraw_input\u001b[0;34m(self, prompt)\u001b[0m\n\u001b[1;32m   1157\u001b[0m         \u001b[0;32mif\u001b[0m \u001b[0;32mnot\u001b[0m \u001b[0mself\u001b[0m\u001b[0;34m.\u001b[0m\u001b[0m_allow_stdin\u001b[0m\u001b[0;34m:\u001b[0m\u001b[0;34m\u001b[0m\u001b[0;34m\u001b[0m\u001b[0m\n\u001b[1;32m   1158\u001b[0m             raise StdinNotImplementedError(\n\u001b[0;32m-> 1159\u001b[0;31m                 \u001b[0;34m\"raw_input was called, but this frontend does not support input requests.\"\u001b[0m\u001b[0;34m\u001b[0m\u001b[0;34m\u001b[0m\u001b[0m\n\u001b[0m\u001b[1;32m   1160\u001b[0m             )\n\u001b[1;32m   1161\u001b[0m         return self._input_request(\n",
      "\u001b[0;31mStdinNotImplementedError\u001b[0m: raw_input was called, but this frontend does not support input requests."
     ]
    }
   ],
   "source": [
    "epochs = 5\n",
    "#print(\"Рисовать графики? [0|1]: \", end='  ')\n",
    "#j = int(input())\n",
    "#if(j == 1):\n",
    "if(True):\n",
    "    plt.figure(figsize=(12, 10))\n",
    "    plt.plot(range(epochs), train_loss, label=\"Training Loss\")\n",
    "    plt.plot(range(epochs), val_loss, label=\"Validation Loss\")\n",
    "    plt.legend(loc='upper left')\n",
    "    plt.title('Training and Validation Loss')\n",
    "    plt.show()\n",
    "\n",
    "    #plt.figure(figsize=(12, 52))\n",
    "    #plt.plot(range(epochs), train_acc, label=\"Training Accuracy\")\n",
    "    #plt.plot(range(epochs), val_acc, label=\"Validation Accuracy\")\n",
    "    #plt.legend(loc='upper left')\n",
    "    #plt.title('Training and Validation Accuracy')\n",
    "    #plt.show()"
   ]
  },
  {
   "cell_type": "code",
   "execution_count": null,
   "id": "4c221159",
   "metadata": {
    "execution": {
     "iopub.status.busy": "2022-06-02T18:08:32.191924Z",
     "iopub.status.idle": "2022-06-02T18:08:32.192508Z",
     "shell.execute_reply": "2022-06-02T18:08:32.192330Z",
     "shell.execute_reply.started": "2022-06-02T18:08:32.192310Z"
    },
    "papermill": {
     "duration": null,
     "end_time": null,
     "exception": null,
     "start_time": null,
     "status": "pending"
    },
    "tags": []
   },
   "outputs": [],
   "source": [
    "#print(\"Показывать по 1 картинки на категорию? [0|1]: \", end='  ')\n",
    "#j = int(input())\n",
    "#if(j == 1):\n",
    "if(True):\n",
    "    index = 1\n",
    "    good = []\n",
    "    for images, labels in val_ds.take(1):\n",
    "        for i in range(CATEGORIES_AMOUNT):\n",
    "            good.append(i)\n",
    "\n",
    "    plt.figure(figsize=(int(Math.sqrt(len(good))) +\n",
    "               10, 2*(int(Math.sqrt(len(good)))+10)))\n",
    "    for images, labels in val_ds.take(1):\n",
    "        for i in good:\n",
    "            ax = plt.subplot(int(Math.sqrt(len(good))) + 1,\n",
    "                             2*(int(Math.sqrt(len(good)))+1), index)\n",
    "            index += 1\n",
    "            # plt.imshow(images[i].numpy().astype(\"uint8\"))\n",
    "            plot_image(predictions[i], labels[i], images[i])\n",
    "            plt.subplot(int(Math.sqrt(len(good))) + 1, 2 *\n",
    "                        (int(Math.sqrt(len(good)))+1), index)\n",
    "            index += 1\n",
    "            plot_value_array(predictions[i], labels[i])\n",
    "            plt.axis(\"off\")\n",
    "            print(str(index//2)+\"/\"+str(len(good)))\n",
    "\n",
    "    plt.show()"
   ]
  },
  {
   "cell_type": "code",
   "execution_count": null,
   "id": "1b3f5b14",
   "metadata": {
    "execution": {
     "iopub.status.busy": "2022-06-02T18:08:32.193420Z",
     "iopub.status.idle": "2022-06-02T18:08:32.194460Z",
     "shell.execute_reply": "2022-06-02T18:08:32.194218Z",
     "shell.execute_reply.started": "2022-06-02T18:08:32.194190Z"
    },
    "papermill": {
     "duration": null,
     "end_time": null,
     "exception": null,
     "start_time": null,
     "status": "pending"
    },
    "tags": []
   },
   "outputs": [],
   "source": [
    "\n",
    "#print(\"Показывать все угаданные? [0|1]: \", end='  ')\n",
    "#j = int(input())\n",
    "#if(j == 1):\n",
    "if(True):\n",
    "    index = 1\n",
    "    good = []\n",
    "    for images, labels in val_ds.take(100):\n",
    "        for i in range(CATEGORIES_AMOUNT):\n",
    "            if((np.argmax(predictions[i]) == np.argmax(labels))):\n",
    "                #print(predictions[i], labels)\n",
    "                good.append(i)\n",
    "\n",
    "    plt.figure(figsize=(int(Math.sqrt(len(good))) +\n",
    "               1, 2*(int(Math.sqrt(len(good)))+1)))\n",
    "    for images, labels in val_ds.take(1):\n",
    "        for i in good:\n",
    "            ax = plt.subplot(int(Math.sqrt(len(good))) + 1,\n",
    "                             2*(int(Math.sqrt(len(good)))+1), index)\n",
    "            index += 1\n",
    "            # plt.imshow(images[i].numpy().astype(\"uint8\"))\n",
    "            print(predictions.shape, labels.shape, images.shape)\n",
    "            plot_image(predictions[i], labels[i][1], images[i])\n",
    "            plt.subplot(int(Math.sqrt(len(good))) + 1, 2 *\n",
    "                        (int(Math.sqrt(len(good)))+1), index)\n",
    "            index += 1\n",
    "            plot_value_array(predictions[i], i)\n",
    "            plt.axis(\"off\")\n",
    "            print(str(index//2)+\"/\"+str(len(good)))\n",
    "\n",
    "    plt.show()"
   ]
  },
  {
   "cell_type": "code",
   "execution_count": null,
   "id": "d80f3755",
   "metadata": {
    "execution": {
     "iopub.status.busy": "2022-06-02T18:08:32.195939Z",
     "iopub.status.idle": "2022-06-02T18:08:32.196331Z",
     "shell.execute_reply": "2022-06-02T18:08:32.196169Z",
     "shell.execute_reply.started": "2022-06-02T18:08:32.196151Z"
    },
    "papermill": {
     "duration": null,
     "end_time": null,
     "exception": null,
     "start_time": null,
     "status": "pending"
    },
    "tags": []
   },
   "outputs": [],
   "source": [
    "\n",
    "\n",
    "print(\"Введите номер картинки для проверки: \", end='  ')\n",
    "j = int(input())\n",
    "if(j != 0):\n",
    "    good = []\n",
    "    index = 1\n",
    "    z = 0\n",
    "    for images, labels in val_ds.take(100):\n",
    "        for i in range(CATEGORIES_AMOUNT):\n",
    "            z += 1\n",
    "            if(z == j):\n",
    "                good.append(i)\n",
    "\n",
    "    plt.figure(figsize=(int(10*Math.sqrt(len(good))) +\n",
    "               10, 2*(int(Math.sqrt(len(good)))+10)))\n",
    "    for images, labels in val_ds.take(1):\n",
    "        for i in good:\n",
    "            ax = plt.subplot(int(Math.sqrt(len(good))) + 1,\n",
    "                             2*(int(Math.sqrt(len(good)))+1), index)\n",
    "            index += 1\n",
    "            # plt.imshow(images[i].numpy().astype(\"uint8\"))\n",
    "            plot_image(predictions[i], labels[i], images[i])\n",
    "            plt.subplot(int(Math.sqrt(len(good))) + 1, 2 *\n",
    "                        (int(Math.sqrt(len(good)))+1), index)\n",
    "            index += 1\n",
    "            plot_value_array(predictions[i], i)\n",
    "            plt.axis(\"off\")\n",
    "            print(str(index//2)+\"/\"+str(len(good)))\n",
    "    plt.show()\n"
   ]
  }
 ],
 "metadata": {
  "kernelspec": {
   "display_name": "Python 3",
   "language": "python",
   "name": "python3"
  },
  "language_info": {
   "codemirror_mode": {
    "name": "ipython",
    "version": 3
   },
   "file_extension": ".py",
   "mimetype": "text/x-python",
   "name": "python",
   "nbconvert_exporter": "python",
   "pygments_lexer": "ipython3",
   "version": "3.7.12"
  },
  "papermill": {
   "default_parameters": {},
   "duration": 253.732185,
   "end_time": "2022-06-02T18:16:13.197522",
   "environment_variables": {},
   "exception": true,
   "input_path": "__notebook__.ipynb",
   "output_path": "__notebook__.ipynb",
   "parameters": {},
   "start_time": "2022-06-02T18:11:59.465337",
   "version": "2.3.4"
  }
 },
 "nbformat": 4,
 "nbformat_minor": 5
}
